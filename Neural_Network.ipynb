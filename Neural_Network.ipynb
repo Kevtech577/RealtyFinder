{
 "cells": [
  {
   "cell_type": "code",
   "execution_count": 3,
   "id": "4ace1c3a-be11-4951-a95f-9501a80ce315",
   "metadata": {},
   "outputs": [
    {
     "name": "stdout",
     "output_type": "stream",
     "text": [
      "Collecting torch\n",
      "  Downloading torch-1.13.1-cp39-none-macosx_10_9_x86_64.whl (135.3 MB)\n",
      "\u001b[2K     \u001b[90m━━━━━━━━━━━━━━━━━━━━━━━━━━━━━━━━━━━━━━\u001b[0m \u001b[32m135.3/135.3 MB\u001b[0m \u001b[31m11.4 MB/s\u001b[0m eta \u001b[36m0:00:00\u001b[0m00:01\u001b[0m00:01\u001b[0m\n",
      "\u001b[?25hCollecting torchvision\n",
      "  Downloading torchvision-0.14.1-cp39-cp39-macosx_10_9_x86_64.whl (1.4 MB)\n",
      "\u001b[2K     \u001b[90m━━━━━━━━━━━━━━━━━━━━━━━━━━━━━━━━━━━━━━━━\u001b[0m \u001b[32m1.4/1.4 MB\u001b[0m \u001b[31m10.1 MB/s\u001b[0m eta \u001b[36m0:00:00\u001b[0m00:01\u001b[0m0:01\u001b[0m0m\n",
      "\u001b[?25hRequirement already satisfied: typing-extensions in /Users/bennettsmookler/opt/anaconda3/lib/python3.9/site-packages (from torch) (4.4.0)\n",
      "Requirement already satisfied: numpy in /Users/bennettsmookler/opt/anaconda3/lib/python3.9/site-packages (from torchvision) (1.21.5)\n",
      "Requirement already satisfied: pillow!=8.3.*,>=5.3.0 in /Users/bennettsmookler/opt/anaconda3/lib/python3.9/site-packages (from torchvision) (9.3.0)\n",
      "Requirement already satisfied: requests in /Users/bennettsmookler/opt/anaconda3/lib/python3.9/site-packages (from torchvision) (2.27.1)\n",
      "Requirement already satisfied: charset-normalizer~=2.0.0 in /Users/bennettsmookler/opt/anaconda3/lib/python3.9/site-packages (from requests->torchvision) (2.0.4)\n",
      "Requirement already satisfied: certifi>=2017.4.17 in /Users/bennettsmookler/opt/anaconda3/lib/python3.9/site-packages (from requests->torchvision) (2022.12.7)\n",
      "Requirement already satisfied: idna<4,>=2.5 in /Users/bennettsmookler/opt/anaconda3/lib/python3.9/site-packages (from requests->torchvision) (3.4)\n",
      "Requirement already satisfied: urllib3<1.27,>=1.21.1 in /Users/bennettsmookler/opt/anaconda3/lib/python3.9/site-packages (from requests->torchvision) (1.26.14)\n",
      "Installing collected packages: torch, torchvision\n",
      "Successfully installed torch-1.13.1 torchvision-0.14.1\n",
      "Note: you may need to restart the kernel to use updated packages.\n"
     ]
    }
   ],
   "source": [
    "pip install torch torchvision"
   ]
  },
  {
   "cell_type": "code",
   "execution_count": 1,
   "id": "5431291f-c304-490b-be72-93ab40dad900",
   "metadata": {},
   "outputs": [],
   "source": [
    "import numpy as np\n",
    "import pandas as pd\n",
    "from sklearn.model_selection import train_test_split\n",
    "from sklearn.preprocessing import StandardScaler\n",
    "import torch\n",
    "import torch.nn as nn\n",
    "import torch.optim as optim"
   ]
  },
  {
   "cell_type": "code",
   "execution_count": 15,
   "id": "87118ed7-fb98-46e9-b6e6-c440dac3d2b4",
   "metadata": {},
   "outputs": [],
   "source": [
    "def get_property_listings(city, state, limit):\n",
    "    url = \"https://realty-mole-property-api.p.rapidapi.com/saleListings\"\n",
    "    querystring = {\"city\": city, \"state\": state, \"limit\": limit}\n",
    "    headers = {\n",
    "        \"X-RapidAPI-Key\": API_KEY,\n",
    "        \"X-RapidAPI-Host\": API_HOST\n",
    "    }\n",
    "    response = requests.request(\"GET\", url, headers=headers, params=querystring)\n",
    "    real_estate_df = pd.DataFrame(json.loads(response.text))\n",
    "    real_estate_df = real_estate_df[~real_estate_df['propertyType'].isin(['Land', 'Manufactured', 'Duplex-Triplex'])]\n",
    "    real_estate_df = real_estate_df.drop(['county', 'addressLine1', 'city', 'state', 'zipCode', 'lastSeen', 'listedDate', 'status', 'removedDate', 'createdDate', 'id', 'addressLine2'], axis=1)\n",
    "    return real_estate_df"
   ]
  }
 ],
 "metadata": {
  "kernelspec": {
   "display_name": "Python 3 (ipykernel)",
   "language": "python",
   "name": "python3"
  },
  "language_info": {
   "codemirror_mode": {
    "name": "ipython",
    "version": 3
   },
   "file_extension": ".py",
   "mimetype": "text/x-python",
   "name": "python",
   "nbconvert_exporter": "python",
   "pygments_lexer": "ipython3",
   "version": "3.9.12"
  }
 },
 "nbformat": 4,
 "nbformat_minor": 5
}
