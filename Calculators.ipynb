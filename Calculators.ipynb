{
 "cells": [
  {
   "cell_type": "code",
   "execution_count": null,
   "id": "20ea3743-1d30-4802-b815-df5f96c57149",
   "metadata": {},
   "outputs": [],
   "source": [
    "import streamlit as st\n",
    "import requests\n",
    "\n",
    "# Set the API endpoint\n",
    "api_url = 'https://api.api-ninjas.com/v1/mortgagecalculator'\n",
    "\n",
    "# Define the parameters as a dictionary\n",
    "params = {\n",
    "    'loan_amount': st.number_input('Loan amount', value=200000),\n",
    "    'interest_rate': st.slider('Interest rate', min_value=0.0, max_value=10.0, step=0.1, value=3.5),\n",
    "    'duration_years': st.selectbox('Duration in years', options=[10, 15, 20, 25, 30, 35, 40], index=4),\n",
    "}\n",
    "\n",
    "# Set the API key in the request headers\n",
    "headers = {'X-Api-Key': 'knc8VXNlwMozZwpq6LFMWQ==FKgTtbuDkJuNXtSO'}\n",
    "\n",
    "# Send the request and handle the response\n",
    "response = requests.get(api_url, headers=headers, params=params)\n",
    "if response.status_code == requests.codes.ok:\n",
    "    result = response.json()\n",
    "    st.write(result)\n",
    "else:\n",
    "    st.error(f\"Error: {response.status_code} - {response.text}\")\n"
   ]
  },
  {
   "cell_type": "code",
   "execution_count": null,
   "id": "2b19abc3-5bc8-4d5a-972e-d40e38cae800",
   "metadata": {},
   "outputs": [],
   "source": [
    "# Create sidebar inputs for property value and loan amount for each property\n",
    "st.sidebar.header(\"LTV Calculator\")\n",
    "\n",
    "num_properties = st.sidebar.number_input(\"Number of Properties\", value=1, min_value=1)\n",
    "\n",
    "property_values = []\n",
    "loan_amounts = []\n",
    "\n",
    "for i in range(num_properties):\n",
    "    st.sidebar.subheader(f\"Property {i+1}\")\n",
    "    property_value = st.sidebar.number_input(f\"Property {i+1} Value\", value=1000000)\n",
    "    loan_amount = st.sidebar.number_input(f\"Property {i+1} Loan Amount\", value=800000)\n",
    "    property_values.append(property_value)\n",
    "    loan_amounts.append(loan_amount)\n",
    "\n",
    "# Calculate LTV ratio for each property and display result\n",
    "for i in range(num_properties):\n",
    "    ltv_ratio = np.round(loan_amounts[i] / property_values[i], 2) * 100\n",
    "    st.write(f\"Property {i+1} LTV Ratio:\", ltv_ratio, \"%\")"
   ]
  },
  {
   "cell_type": "code",
   "execution_count": null,
   "id": "3e55d4bb-caae-4333-bf13-eae4558e4335",
   "metadata": {},
   "outputs": [],
   "source": [
    "# Create sidebar inputs for initial investment, cash flow, and holding period\n",
    "st.sidebar.header(\"ROI Calculator\")\n",
    "\n",
    "initial_investment = st.sidebar.number_input(\"Initial Investment\", value=100000)\n",
    "cash_flow = st.sidebar.number_input(\"Cash Flow\", value=10000)\n",
    "holding_period = st.sidebar.number_input(\"Holding Period (years)\", value=5)\n",
    "\n",
    "# Calculate ROI and display result\n",
    "total_return = initial_investment + cash_flow * holding_period\n",
    "roi = np.round((total_return - initial_investment) / initial_investment, 2) * 100\n",
    "st.write(\"ROI:\", roi, \"%\")"
   ]
  }
 ],
 "metadata": {
  "kernelspec": {
   "display_name": "dev",
   "language": "python",
   "name": "python3"
  },
  "language_info": {
   "codemirror_mode": {
    "name": "ipython",
    "version": 3
   },
   "file_extension": ".py",
   "mimetype": "text/x-python",
   "name": "python",
   "nbconvert_exporter": "python",
   "pygments_lexer": "ipython3",
   "version": "3.7.13"
  },
  "vscode": {
   "interpreter": {
    "hash": "01c6b438d8abc380af864fb832d0d5a5966a8c4afbef1f8c3a472e0e8772a777"
   }
  }
 },
 "nbformat": 4,
 "nbformat_minor": 5
}
